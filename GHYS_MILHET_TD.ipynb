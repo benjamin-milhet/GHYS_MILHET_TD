{
  "nbformat": 4,
  "nbformat_minor": 0,
  "metadata": {
    "colab": {
      "provenance": [],
      "include_colab_link": true
    },
    "kernelspec": {
      "name": "python3",
      "display_name": "Python 3"
    },
    "language_info": {
      "name": "python"
    }
  },
  "cells": [
    {
      "cell_type": "markdown",
      "metadata": {
        "id": "view-in-github",
        "colab_type": "text"
      },
      "source": [
        "<a href=\"https://colab.research.google.com/github/benjamin-milhet/GHYS_MILHET_TD/blob/main/GHYS_MILHET_TD.ipynb\" target=\"_parent\"><img src=\"https://colab.research.google.com/assets/colab-badge.svg\" alt=\"Open In Colab\"/></a>"
      ]
    },
    {
      "cell_type": "code",
      "execution_count": 1,
      "metadata": {
        "id": "m7kd68d0MfEQ"
      },
      "outputs": [],
      "source": [
        "# Ensemble d'operations utile pour la suite du projet\n",
        "class operations:\n",
        "\n",
        "    def concat(self, chaine):\n",
        "        \"\"\"\n",
        "          Ajoute un point d'exclamation à la fin d'une phrase donner en parametre\n",
        "\n",
        "          Parameters\n",
        "          ----------\n",
        "          chaine : String\n",
        "              Phrase à laquelle ajouter un point d'exclamation\n",
        "\n",
        "          Returns\n",
        "          ----------\n",
        "          String\n",
        "              Phrase avec un point d'exclamation à la fin\n",
        "        \"\"\"\n",
        "        return chaine+\" !\"\n",
        "\n",
        "    def cumul(self, list):\n",
        "        \"\"\"\n",
        "          Fait la somme de tous les nombres comprit dans la liste\n",
        "\n",
        "          Parameters\n",
        "          ----------\n",
        "          list : list\n",
        "              Liste de nombre\n",
        "\n",
        "          Returns\n",
        "          ----------\n",
        "          int\n",
        "              Somme de tous les nombres de la liste\n",
        "        \"\"\"\n",
        "        res = 0\n",
        "        for i in list:\n",
        "            if isinstance(i, int):\n",
        "                res += i\n",
        "        return res\n",
        "\n",
        "    def factorielle(self, facto):\n",
        "        \"\"\"\n",
        "          Calcul la factorielle d'un nombre de facon recursive\n",
        "\n",
        "          Parameters\n",
        "          ----------\n",
        "          facto : int\n",
        "              Nombre entier auquelle on calcule ca factorielle\n",
        "\n",
        "          Returns\n",
        "          ----------\n",
        "          int\n",
        "              Facorielle du nombre donner en parametre\n",
        "        \"\"\"\n",
        "        if facto == 1:\n",
        "            return facto\n",
        "        else:\n",
        "            return facto * self.factorielle(facto - 1)"
      ]
    },
    {
      "cell_type": "code",
      "source": [
        "# Classe representant une personne avec un nom et son age et permettant de savoirt si elle est majeur ou non\n",
        "class Personne:\n",
        "\n",
        "    def __init__(self, nom, age):\n",
        "        self.nom = nom\n",
        "        self.age = age\n",
        "\n",
        "    def isMajeur(self):\n",
        "        \"\"\"\n",
        "          Permet de savoir si la personne est majeur ou non\n",
        "\n",
        "          Returns\n",
        "          ----------\n",
        "          boolean\n",
        "              Retourne True si la personne est majeur sinon False\n",
        "        \"\"\"\n",
        "        return self.age >= 18\n",
        "\n",
        "    def __str__(self):\n",
        "        \"\"\"\n",
        "          Permet d'obtenir le détail d'une personne\n",
        "\n",
        "          Returns\n",
        "          ----------\n",
        "          String\n",
        "              Retourne une phrase de description de la personne\n",
        "        \"\"\"\n",
        "        res = self.nom + \" ; \" + str(self.age)\n",
        "        if self.isMajeur():\n",
        "            res += \" -> majeur\"\n",
        "        else:\n",
        "            res += \" -> mineur\"\n",
        "        return res\n"
      ],
      "metadata": {
        "id": "evdpT-XfPPi9"
      },
      "execution_count": 2,
      "outputs": []
    },
    {
      "cell_type": "code",
      "source": [
        "def main():\n",
        "    \"\"\"\n",
        "        Fonction main pour tester les class operations et Personne\n",
        "\n",
        "    \"\"\"\n",
        "    test = operations()\n",
        "    print(test.concat(\"hello world\"))\n",
        "    print(test.cumul([1,2,3,\"test\"]))\n",
        "    print(test.factorielle(5))\n",
        "\n",
        "    p1 = Personne(\"jean\", 20)\n",
        "    p2 = Personne(\"jeanne\", 5)\n",
        "\n",
        "    print(p1)\n",
        "    print(p2)\n",
        "\n",
        "\n",
        "if __name__ == '__main__':\n",
        "    main()\n"
      ],
      "metadata": {
        "colab": {
          "base_uri": "https://localhost:8080/"
        },
        "id": "6diY_VCrM8qj",
        "outputId": "a5c3aeb5-b8f9-48eb-9510-4d916adda138"
      },
      "execution_count": 3,
      "outputs": [
        {
          "output_type": "stream",
          "name": "stdout",
          "text": [
            "hello world !\n",
            "6\n",
            "120\n",
            "jean ; 20 -> majeur\n",
            "jeanne ; 5 -> mineur\n"
          ]
        }
      ]
    },
    {
      "cell_type": "code",
      "source": [
        "import pandas as pd # Importation de la librairie pandas\n",
        "\n",
        "data = pd.read_csv(\"https://raw.githubusercontent.com/mwaskom/seaborn-data/master/tips.csv\") # Importation des donnees du fichier tips.csv a l'aide de la librairie pandas\n",
        "print(data) # Affichage des donnees"
      ],
      "metadata": {
        "id": "Ldm2SevEQFL7",
        "colab": {
          "base_uri": "https://localhost:8080/"
        },
        "outputId": "94419840-9d1e-4751-d02e-77f4987bc375"
      },
      "execution_count": 5,
      "outputs": [
        {
          "output_type": "stream",
          "name": "stdout",
          "text": [
            "     total_bill   tip     sex smoker   day    time  size\n",
            "0         16.99  1.01  Female     No   Sun  Dinner     2\n",
            "1         10.34  1.66    Male     No   Sun  Dinner     3\n",
            "2         21.01  3.50    Male     No   Sun  Dinner     3\n",
            "3         23.68  3.31    Male     No   Sun  Dinner     2\n",
            "4         24.59  3.61  Female     No   Sun  Dinner     4\n",
            "..          ...   ...     ...    ...   ...     ...   ...\n",
            "239       29.03  5.92    Male     No   Sat  Dinner     3\n",
            "240       27.18  2.00  Female    Yes   Sat  Dinner     2\n",
            "241       22.67  2.00    Male    Yes   Sat  Dinner     2\n",
            "242       17.82  1.75    Male     No   Sat  Dinner     2\n",
            "243       18.78  3.00  Female     No  Thur  Dinner     2\n",
            "\n",
            "[244 rows x 7 columns]\n"
          ]
        }
      ]
    },
    {
      "cell_type": "code",
      "source": [
        "# La fonction replace permet de remplacer les donnees de type String en valeur int\n",
        "dataBis = data.replace(['Female', 'Male'], [0, 1])\n",
        "dataBis = dataBis.replace(['No', 'Yes'], [0, 1])\n",
        "dataBis = dataBis.replace(['Dinner', 'Lunch'], [0, 1])\n",
        "dataBis = dataBis.replace(['Sun', 'Fri', 'Thur', 'Sat'], [0, 1, 2, 3])\n",
        "print(dataBis)"
      ],
      "metadata": {
        "colab": {
          "base_uri": "https://localhost:8080/"
        },
        "id": "m_0Cc3ohUbS7",
        "outputId": "657b9802-956c-46ca-cec9-0eb7e938354f"
      },
      "execution_count": 6,
      "outputs": [
        {
          "output_type": "stream",
          "name": "stdout",
          "text": [
            "     total_bill   tip  sex  smoker  day  time  size\n",
            "0         16.99  1.01    0       0    0     0     2\n",
            "1         10.34  1.66    1       0    0     0     3\n",
            "2         21.01  3.50    1       0    0     0     3\n",
            "3         23.68  3.31    1       0    0     0     2\n",
            "4         24.59  3.61    0       0    0     0     4\n",
            "..          ...   ...  ...     ...  ...   ...   ...\n",
            "239       29.03  5.92    1       0    3     0     3\n",
            "240       27.18  2.00    0       1    3     0     2\n",
            "241       22.67  2.00    1       1    3     0     2\n",
            "242       17.82  1.75    1       0    3     0     2\n",
            "243       18.78  3.00    0       0    2     0     2\n",
            "\n",
            "[244 rows x 7 columns]\n"
          ]
        }
      ]
    },
    {
      "cell_type": "code",
      "source": [
        "import numpy as np # Importation de la librairie numpy\n",
        "\n",
        "loss = np.zeros((51, 51), np.uint32) # Initialisation de l'ensemble des loss a 0\n",
        "\n",
        "for w1 in range(-25, 26): # On parcout toutes les valeurs de w1\n",
        "  for w2 in range(-25, 26): # On parcout toutes les valeurs de w2\n",
        "    e = 0\n",
        "    y = 0\n",
        "    for i in range(243): # On parcourt l'ensemble des valeurs de total_bill\n",
        "      t = 0\n",
        "      #Calcul de ma loss pour chacune des valeurs\n",
        "      temp1 = float(dataBis.loc[i, \"total_bill\"]) * w1\n",
        "      temp2 = dataBis.loc[i, \"sex\"] * w2\n",
        "      y += temp1 + temp2\n",
        "      t += dataBis.loc[i, \"tip\"]\n",
        "      tempo = y - t\n",
        "      e += ((tempo * tempo)/2)\n",
        "    loss[w1+25][w2+25] = e/dataBis.size\n"
      ],
      "metadata": {
        "id": "f-DKgakTWJkC"
      },
      "execution_count": 7,
      "outputs": []
    },
    {
      "cell_type": "code",
      "source": [
        "import matplotlib.pyplot as plt # Importation de la librairie matplotlib.pyplot\n",
        "\n",
        "plt.imshow(loss, extent=[-25,25,-25,25]) # Affichage des valeurs des loss calculees precedentes\n"
      ],
      "metadata": {
        "colab": {
          "base_uri": "https://localhost:8080/",
          "height": 283
        },
        "id": "Lcv5u8gifsMJ",
        "outputId": "9dc751a7-2a8e-49ca-fbe1-2d731bb31c7a"
      },
      "execution_count": 8,
      "outputs": [
        {
          "output_type": "execute_result",
          "data": {
            "text/plain": [
              "<matplotlib.image.AxesImage at 0x7f08dc5666a0>"
            ]
          },
          "metadata": {},
          "execution_count": 8
        },
        {
          "output_type": "display_data",
          "data": {
            "text/plain": [
              "<Figure size 432x288 with 1 Axes>"
            ],
            "image/png": "[encoded data removed]"
          },
          "metadata": {
            "needs_background": "light"
          }
        }
      ]
    },
    {
      "cell_type": "code",
      "source": [
        "import sklearn as sk # Importation de la librairie sklearn\n",
        "\n",
        "y = dataBis.get(\"tip\") # Recuperation de la colonne tip\n",
        "print(y) # Affichage des informations compris dans y\n",
        "\n",
        "x = dataBis.drop(\"tip\", axis='columns') # Recuperation de toutes les colonnes sauf la colonne tip\n",
        "print(x) # Affichage des informations compris dans x"
      ],
      "metadata": {
        "colab": {
          "base_uri": "https://localhost:8080/"
        },
        "id": "AYAD2Gmios5o",
        "outputId": "ecf639ad-6d18-4d33-fc34-65792f77c323"
      },
      "execution_count": 9,
      "outputs": [
        {
          "output_type": "stream",
          "name": "stdout",
          "text": [
            "0      1.01\n",
            "1      1.66\n",
            "2      3.50\n",
            "3      3.31\n",
            "4      3.61\n",
            "       ... \n",
            "239    5.92\n",
            "240    2.00\n",
            "241    2.00\n",
            "242    1.75\n",
            "243    3.00\n",
            "Name: tip, Length: 244, dtype: float64\n",
            "     total_bill  sex  smoker  day  time  size\n",
            "0         16.99    0       0    0     0     2\n",
            "1         10.34    1       0    0     0     3\n",
            "2         21.01    1       0    0     0     3\n",
            "3         23.68    1       0    0     0     2\n",
            "4         24.59    0       0    0     0     4\n",
            "..          ...  ...     ...  ...   ...   ...\n",
            "239       29.03    1       0    3     0     3\n",
            "240       27.18    0       1    3     0     2\n",
            "241       22.67    1       1    3     0     2\n",
            "242       17.82    1       0    3     0     2\n",
            "243       18.78    0       0    2     0     2\n",
            "\n",
            "[244 rows x 6 columns]\n"
          ]
        }
      ]
    },
    {
      "cell_type": "code",
      "source": [
        "from sklearn.model_selection import train_test_split # Importation de train_test_spli depuis la librairie sklearn.model_selection\n",
        "\n",
        "x_train, x_test, y_train, y_test = train_test_split(x, y, test_size=0.10) # Separation des donnees en deux parties, une pour l'entrainement des donnees (90%) et une autre pour une phase de test (10%)\n",
        "# Affichage des donnees\n",
        "print(x_train)\n",
        "print(x_test)\n",
        "print(y_train)\n",
        "print(y_test)"
      ],
      "metadata": {
        "colab": {
          "base_uri": "https://localhost:8080/"
        },
        "id": "mjHU9aEvyDIW",
        "outputId": "09aa9f57-bfdf-43f5-bef6-4833792bba06"
      },
      "execution_count": 10,
      "outputs": [
        {
          "output_type": "stream",
          "name": "stdout",
          "text": [
            "     total_bill  sex  smoker  day  time  size\n",
            "186       20.90    0       1    0     0     3\n",
            "118       12.43    0       0    2     1     2\n",
            "142       41.19    1       0    2     1     5\n",
            "193       15.48    1       1    2     1     2\n",
            "207       38.73    1       1    3     0     4\n",
            "..          ...  ...     ...  ...   ...   ...\n",
            "88        24.71    1       0    2     1     2\n",
            "65        20.08    1       0    3     0     3\n",
            "125       29.80    0       0    2     1     6\n",
            "31        18.35    1       0    3     0     4\n",
            "39        31.27    1       0    3     0     3\n",
            "\n",
            "[219 rows x 6 columns]\n",
            "     total_bill  sex  smoker  day  time  size\n",
            "242       17.82    1       0    3     0     2\n",
            "107       25.21    1       1    3     0     2\n",
            "176       17.89    1       1    0     0     2\n",
            "44        30.40    1       0    0     0     4\n",
            "227       20.45    1       0    3     0     4\n",
            "0         16.99    0       0    0     0     2\n",
            "102       44.30    0       1    3     0     3\n",
            "202       13.00    0       1    2     1     2\n",
            "127       14.52    0       0    2     1     2\n",
            "13        18.43    1       0    0     0     4\n",
            "168       10.59    0       1    3     0     2\n",
            "141       34.30    1       0    2     1     6\n",
            "6          8.77    1       0    0     0     2\n",
            "106       20.49    1       1    3     0     2\n",
            "201       12.74    0       1    2     1     2\n",
            "190       15.69    1       1    0     0     2\n",
            "56        38.01    1       1    3     0     4\n",
            "37        16.93    0       0    3     0     3\n",
            "178        9.60    0       1    0     0     2\n",
            "23        39.42    1       0    3     0     4\n",
            "182       45.35    1       1    0     0     3\n",
            "72        26.86    0       1    3     0     2\n",
            "157       25.00    0       0    0     0     4\n",
            "150       14.07    1       0    0     0     2\n",
            "174       16.82    1       1    0     0     2\n",
            "186    3.50\n",
            "118    1.80\n",
            "142    5.00\n",
            "193    2.02\n",
            "207    3.00\n",
            "       ... \n",
            "88     5.85\n",
            "65     3.15\n",
            "125    4.20\n",
            "31     2.50\n",
            "39     5.00\n",
            "Name: tip, Length: 219, dtype: float64\n",
            "242    1.75\n",
            "107    4.29\n",
            "176    2.00\n",
            "44     5.60\n",
            "227    3.00\n",
            "0      1.01\n",
            "102    2.50\n",
            "202    2.00\n",
            "127    2.00\n",
            "13     3.00\n",
            "168    1.61\n",
            "141    6.70\n",
            "6      2.00\n",
            "106    4.06\n",
            "201    2.01\n",
            "190    1.50\n",
            "56     3.00\n",
            "37     3.07\n",
            "178    4.00\n",
            "23     7.58\n",
            "182    3.50\n",
            "72     3.14\n",
            "157    3.75\n",
            "150    2.50\n",
            "174    4.00\n",
            "Name: tip, dtype: float64\n"
          ]
        }
      ]
    },
    {
      "cell_type": "code",
      "source": [
        "# Declaration des constantes pour le Perceptron\n",
        "NUMBER_OF_INPUTS = 6\n",
        "LEARNING_RATE = 0.001 \n",
        "LOSS_CLAMPING = 1\n",
        "RELU_CLAMPING = 3\n",
        "# Declaration des constantes pour l'amelioration du Perceptron\n",
        "EPOCH = 50"
      ],
      "metadata": {
        "id": "BGwHfeQHyzkX"
      },
      "execution_count": 11,
      "outputs": []
    },
    {
      "cell_type": "code",
      "source": [
        "class Perceptron:\n",
        "  def __init__(self, inputs, learning_rate):\n",
        "        self.inputs = inputs\n",
        "        self.learning_rate = learning_rate\n",
        "        self.weights = np.zeros(self.inputs+1)\n",
        "  \n",
        "  def predict_relu(self, inputList):\n",
        "    \"\"\"\n",
        "          Permet de calculer la somme des produits des inputs et des poids\n",
        "\n",
        "          Parameters\n",
        "          ----------\n",
        "          inputList : int\n",
        "              Ensemble des valeurs d'entrée\n",
        "\n",
        "          Returns\n",
        "          ----------\n",
        "          float\n",
        "              Somme des produits des inputs et des poids\n",
        "    \"\"\"\n",
        "    res = 0.0 # Initialisation de la variable res a 0\n",
        "    for i in range(len(inputList)-1): # Parcours de l'ensemble des inputs\n",
        "      res += inputList[i] * self.weights[i] # Calcul de la somme des produits des inputs et des poids\n",
        "    if res > RELU_CLAMPING : return res \n",
        "    else : return RELU_CLAMPING \n",
        "\n",
        "  def compute_loss(self, y, t):\n",
        "    \"\"\"\n",
        "          Permet de calculer la loss\n",
        "\n",
        "          Parameters\n",
        "          ----------\n",
        "          y : int\n",
        "              Valeur de sortie\n",
        "          t : int\n",
        "              Valeur attendue\n",
        "\n",
        "          Returns\n",
        "          ----------\n",
        "          float\n",
        "              Loss\n",
        "    \"\"\"\n",
        "    temp = y - t\n",
        "    res = (temp * temp)/2\n",
        "    if res > LOSS_CLAMPING : return res\n",
        "    else : return LOSS_CLAMPING\n",
        "  \n",
        "  def update_weights(self, x, y, t):\n",
        "    \"\"\"\n",
        "          Permet de mettre a jour les poids\n",
        "\n",
        "          Parameters\n",
        "          ----------\n",
        "          x : int\n",
        "              Ensemble des valeurs d'entrée\n",
        "          y : int\n",
        "              Valeur de sortie\n",
        "          t : int\n",
        "              Valeur attendue\n",
        "    \"\"\"\n",
        "    for i in range(len(self.weights)-1):\n",
        "      self.weights[i] = self.weights[i] + (y - t) * x[i] * self.learning_rate\n",
        "\n",
        "  def train(self, x_train, y_train):\n",
        "    \"\"\"\n",
        "          Permet d'entrainer le perceptron\n",
        "\n",
        "          Parameters\n",
        "          ----------\n",
        "          x_train : int\n",
        "              Ensemble des valeurs d'entrée pour l'entrainement\n",
        "          y_train : int\n",
        "              Ensemble des valeurs de sortie pour l'entrainement\n",
        "    \"\"\"\n",
        "    for i in range(EPOCH):\n",
        "      x_train = np.c_[x_train]\n",
        "      for (x, y) in zip(x_train, y_train):\n",
        "        t = self.predict_relu(x)\n",
        "        if t != y:\n",
        "          self.update_weights(x, y, t)\n",
        "\n",
        "  def evaluate(self, x_test, y_test):\n",
        "    \"\"\"\n",
        "          Permet d'evaluer le perceptron\n",
        "\n",
        "          Parameters\n",
        "          ----------\n",
        "          x_test : int\n",
        "              Ensemble des valeurs d'entrée pour l'evaluation\n",
        "          y_test : int\n",
        "              Ensemble des valeurs de sortie pour l'evaluation\n",
        "    \"\"\"\n",
        "    listPrecision = []\n",
        "    x_test = np.c_[x_test]\n",
        "    for (x_test, y_test) in zip(x_test, y_test):\n",
        "      t = self.predict_relu(x_test)\n",
        "\n",
        "      temp = abs(y_test - t)/t\n",
        "      precision = 1 - temp\n",
        "      listPrecision.append(precision)\n",
        "\n",
        "    print(sum(listPrecision)/len(listPrecision))"
      ],
      "metadata": {
        "id": "ps2A5oVUy9Vh"
      },
      "execution_count": 14,
      "outputs": []
    },
    {
      "cell_type": "code",
      "source": [
        "perceptron = Perceptron(NUMBER_OF_INPUTS, LEARNING_RATE)\n",
        "perceptron.train(x_train, y_train)\n",
        "perceptron.evaluate(x_test, y_test)"
      ],
      "metadata": {
        "colab": {
          "base_uri": "https://localhost:8080/"
        },
        "id": "rs48HJ7t1HyG",
        "outputId": "f1df0fc0-dd2f-4fed-b960-4a010d9c1855"
      },
      "execution_count": 16,
      "outputs": [
        {
          "output_type": "stream",
          "name": "stdout",
          "text": [
            "0.5623991552015343\n"
          ]
        }
      ]
    }
  ]
}